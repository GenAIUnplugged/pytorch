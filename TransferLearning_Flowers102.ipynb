{
  "nbformat": 4,
  "nbformat_minor": 0,
  "metadata": {
    "colab": {
      "provenance": [],
      "gpuType": "T4",
      "authorship_tag": "ABX9TyMIcZLjWJnj4jJlx430AQKR",
      "include_colab_link": true
    },
    "kernelspec": {
      "name": "python3",
      "display_name": "Python 3"
    },
    "language_info": {
      "name": "python"
    },
    "accelerator": "GPU"
  },
  "cells": [
    {
      "cell_type": "markdown",
      "metadata": {
        "id": "view-in-github",
        "colab_type": "text"
      },
      "source": [
        "<a href=\"https://colab.research.google.com/github/GenAIUnplugged/pytorch/blob/main/TransferLearning_Flowers102.ipynb\" target=\"_parent\"><img src=\"https://colab.research.google.com/assets/colab-badge.svg\" alt=\"Open In Colab\"/></a>"
      ]
    },
    {
      "source": [
        "import torch\n",
        "import torchvision\n",
        "import torch.nn as nn\n",
        "from torchvision.transforms import transforms\n",
        "import matplotlib.pyplot as plt\n",
        "import numpy as np\n",
        "from torchvision.models import resnet50,ResNet50_Weights\n",
        "from tqdm import tqdm\n",
        "import torch.optim.lr_scheduler as lr_scheduler # Import scheduler\n",
        "\n",
        "# %%\n",
        "# Define transformations\n",
        "# Added Data Augmentation for training\n",
        "train_transform = transforms.Compose([\n",
        "    transforms.RandomResizedCrop(224), # Randomly crop and resize\n",
        "    transforms.RandomHorizontalFlip(), # Randomly flip horizontally\n",
        "    transforms.ToTensor(),\n",
        "    transforms.Normalize(mean=[0.485, 0.456, 0.406], std=[0.229, 0.224, 0.225]) # Normalize with ImageNet stats\n",
        "])\n",
        "\n",
        "# No augmentation for testing, only resize and normalize\n",
        "test_transform = transforms.Compose([\n",
        "    transforms.Resize(256), # Resize first\n",
        "    transforms.CenterCrop(224), # Then crop the center\n",
        "    transforms.ToTensor(),\n",
        "    transforms.Normalize(mean=[0.485, 0.456, 0.406], std=[0.229, 0.224, 0.225])\n",
        "])\n",
        "\n",
        "# %%\n",
        "# Load Datasets (assuming you fixed the mismatch and are using the same dataset for train/test)\n",
        "# Example using Flowers102 for both (adjust if using Food101)\n",
        "train_ds = torchvision.datasets.Flowers102(\n",
        "    root=\"./data\",\n",
        "    split=\"train\",\n",
        "    transform=train_transform, # Use train_transform\n",
        "    download=True\n",
        ")\n",
        "\n",
        "test_ds = torchvision.datasets.Flowers102( # Ensure this matches train_ds dataset type\n",
        "    root=\"./data\",\n",
        "    split=\"test\",\n",
        "    transform=test_transform, # Use test_transform\n",
        "    download=True\n",
        ")\n",
        "\n",
        "# %%\n",
        "# Data Loaders\n",
        "train_loader = torch.utils.data.DataLoader(dataset=train_ds, shuffle=True, batch_size=32, num_workers=2) # Added num_workers\n",
        "test_loader = torch.utils.data.DataLoader(dataset=test_ds, shuffle=False, batch_size=32, num_workers=2) # Added num_workers and shuffle=False for consistent evaluation\n",
        "\n",
        "# %%\n",
        "# Device configuration\n",
        "device = \"cuda\" if torch.cuda.is_available() else \"cpu\"\n",
        "print(f\"Using device: {device}\") # Print device being used\n",
        "\n",
        "# %%\n",
        "# Load pre-trained ResNet50 model\n",
        "model = resnet50(weights=ResNet50_Weights.IMAGENET1K_V1) # Specify weights version\n",
        "model = model.to(device)\n",
        "\n",
        "# %%\n",
        "# Modify the final fully connected layer for 102 classes\n",
        "num_classes = 102 # Set number of classes based on your dataset (Flowers102 has 102)\n",
        "model.fc = nn.Linear(in_features=model.fc.in_features, out_features=num_classes)\n",
        "model = model.to(device)\n",
        "\n",
        "# %%\n",
        "# Define Loss function and Optimizer\n",
        "criterion = nn.CrossEntropyLoss()\n",
        "optimizer = torch.optim.Adam(model.parameters(), lr=0.001) # Adam optimizer\n",
        "# Add a learning rate scheduler\n",
        "scheduler = lr_scheduler.StepLR(optimizer, step_size=30, gamma=0.1) # Decrease learning rate by 10% every 30 epochs\n",
        "\n",
        "# %%\n",
        "# Training loop\n",
        "epochs = 50 # Increased number of epochs\n",
        "\n",
        "for epoch in range(epochs):\n",
        "    model.train() # Set model to training mode\n",
        "    total_loss = 0\n",
        "    total_correct = 0\n",
        "    total_samples = 0\n",
        "    progress_bar = tqdm(train_loader, desc=f\"Epoch {epoch+1}/{epochs} [Train]\")\n",
        "\n",
        "    for batch, (image, label) in enumerate(progress_bar):\n",
        "        image, label = image.to(device), label.to(device)\n",
        "\n",
        "        # Forward pass\n",
        "        logits = model(image)\n",
        "        loss = criterion(logits, label)\n",
        "\n",
        "        # Backward pass and optimize\n",
        "        optimizer.zero_grad()\n",
        "        loss.backward()\n",
        "        optimizer.step()\n",
        "\n",
        "        # Calculate accuracy\n",
        "        pred_probs = torch.softmax(input=logits, dim=1).argmax(dim=1)\n",
        "        correct = (pred_probs == label).sum().item()\n",
        "        total_correct += correct\n",
        "        total_loss += loss.item()\n",
        "        total_samples += label.size(0)\n",
        "\n",
        "        # Update progress bar\n",
        "        progress_bar.set_postfix(loss=total_loss / (batch + 1), accuracy=total_correct / total_samples)\n",
        "\n",
        "    # Step the scheduler\n",
        "    scheduler.step()\n",
        "\n",
        "    print(f\"\\nEpoch {epoch+1}/{epochs} [Train] - Loss: {total_loss / len(train_loader):.4f}, Accuracy: {total_correct / total_samples:.4f}\")\n",
        "\n",
        "    # Evaluation loop\n",
        "    model.eval() # Set model to evaluation mode\n",
        "    total_loss = 0\n",
        "    total_correct = 0\n",
        "    total_samples = 0\n",
        "    progress_bar = tqdm(test_loader, desc=f\"Epoch {epoch+1}/{epochs} [Test]\")\n",
        "\n",
        "    with torch.no_grad(): # Disable gradient calculation for evaluation\n",
        "        for batch, (image, label) in enumerate(progress_bar):\n",
        "            image, label = image.to(device), label.to(device)\n",
        "\n",
        "            # Forward pass\n",
        "            test_logits = model(image)\n",
        "            test_loss = criterion(test_logits, label)\n",
        "\n",
        "            # Calculate accuracy\n",
        "            pred_probs = torch.softmax(input=test_logits, dim=1).argmax(dim=1)\n",
        "            correct = (pred_probs == label).sum().item()\n",
        "            total_correct += correct\n",
        "            total_loss += test_loss.item()\n",
        "            total_samples += label.size(0)\n",
        "\n",
        "            # Update progress bar\n",
        "            progress_bar.set_postfix(loss=total_loss / (batch + 1), accuracy=total_correct / total_samples)\n",
        "\n",
        "    print(f\"Epoch {epoch+1}/{epochs} [Test] - Loss: {total_loss / len(test_loader):.4f}, Accuracy: {total_correct / total_samples:.4f}\")\n",
        "\n",
        "print(\"\\nTraining finished.\")\n",
        "\n",
        "# Final evaluation on the test set after all epochs\n",
        "model.eval()\n",
        "total_loss = 0\n",
        "total_correct = 0\n",
        "total_samples = 0\n",
        "print(\"\\nEvaluating on the full test set...\")\n",
        "with torch.no_grad():\n",
        "    for batch, (image, label) in enumerate(test_loader):\n",
        "        image, label = image.to(device), label.to(device)\n",
        "        test_logits = model(image)\n",
        "        test_loss = criterion(test_logits, label)\n",
        "        pred_probs = torch.softmax(input=test_logits, dim=1).argmax(dim=1)\n",
        "        correct = (pred_probs == label).sum().item()\n",
        "        total_correct += correct\n",
        "        total_loss += test_loss.item()\n",
        "        total_samples += label.size(0)\n",
        "\n",
        "print(f\"Final Test Loss: {total_loss / len(test_loader):.4f}, Final Test Accuracy: {total_correct / total_samples:.4f}\")"
      ],
      "cell_type": "code",
      "metadata": {
        "colab": {
          "base_uri": "https://localhost:8080/"
        },
        "id": "VfMIKF0n9NTC",
        "outputId": "d3aad862-e78b-486d-eff3-7e3ce6b35be1"
      },
      "execution_count": 12,
      "outputs": [
        {
          "output_type": "stream",
          "name": "stdout",
          "text": [
            "Using device: cuda\n"
          ]
        },
        {
          "output_type": "stream",
          "name": "stderr",
          "text": [
            "Epoch 1/50 [Train]: 100%|██████████| 32/32 [00:11<00:00,  2.81it/s, accuracy=0.0225, loss=4.92]\n"
          ]
        },
        {
          "output_type": "stream",
          "name": "stdout",
          "text": [
            "\n",
            "Epoch 1/50 [Train] - Loss: 4.9210, Accuracy: 0.0225\n"
          ]
        },
        {
          "output_type": "stream",
          "name": "stderr",
          "text": [
            "Epoch 1/50 [Test]: 100%|██████████| 193/193 [00:40<00:00,  4.79it/s, accuracy=0.0187, loss=393]\n"
          ]
        },
        {
          "output_type": "stream",
          "name": "stdout",
          "text": [
            "Epoch 1/50 [Test] - Loss: 393.3431, Accuracy: 0.0187\n"
          ]
        },
        {
          "output_type": "stream",
          "name": "stderr",
          "text": [
            "Epoch 2/50 [Train]: 100%|██████████| 32/32 [00:10<00:00,  2.91it/s, accuracy=0.0216, loss=4.43]\n"
          ]
        },
        {
          "output_type": "stream",
          "name": "stdout",
          "text": [
            "\n",
            "Epoch 2/50 [Train] - Loss: 4.4313, Accuracy: 0.0216\n"
          ]
        },
        {
          "output_type": "stream",
          "name": "stderr",
          "text": [
            "Epoch 2/50 [Test]: 100%|██████████| 193/193 [00:40<00:00,  4.71it/s, accuracy=0.0423, loss=4.39]\n"
          ]
        },
        {
          "output_type": "stream",
          "name": "stdout",
          "text": [
            "Epoch 2/50 [Test] - Loss: 4.3852, Accuracy: 0.0423\n"
          ]
        },
        {
          "output_type": "stream",
          "name": "stderr",
          "text": [
            "Epoch 3/50 [Train]: 100%|██████████| 32/32 [00:10<00:00,  2.92it/s, accuracy=0.0657, loss=4.01]\n"
          ]
        },
        {
          "output_type": "stream",
          "name": "stdout",
          "text": [
            "\n",
            "Epoch 3/50 [Train] - Loss: 4.0146, Accuracy: 0.0657\n"
          ]
        },
        {
          "output_type": "stream",
          "name": "stderr",
          "text": [
            "Epoch 3/50 [Test]: 100%|██████████| 193/193 [00:42<00:00,  4.59it/s, accuracy=0.0742, loss=3.94]\n"
          ]
        },
        {
          "output_type": "stream",
          "name": "stdout",
          "text": [
            "Epoch 3/50 [Test] - Loss: 3.9450, Accuracy: 0.0742\n"
          ]
        },
        {
          "output_type": "stream",
          "name": "stderr",
          "text": [
            "Epoch 4/50 [Train]: 100%|██████████| 32/32 [00:10<00:00,  3.00it/s, accuracy=0.0863, loss=3.75]\n"
          ]
        },
        {
          "output_type": "stream",
          "name": "stdout",
          "text": [
            "\n",
            "Epoch 4/50 [Train] - Loss: 3.7468, Accuracy: 0.0863\n"
          ]
        },
        {
          "output_type": "stream",
          "name": "stderr",
          "text": [
            "Epoch 4/50 [Test]: 100%|██████████| 193/193 [00:41<00:00,  4.66it/s, accuracy=0.0834, loss=3.98]\n"
          ]
        },
        {
          "output_type": "stream",
          "name": "stdout",
          "text": [
            "Epoch 4/50 [Test] - Loss: 3.9771, Accuracy: 0.0834\n"
          ]
        },
        {
          "output_type": "stream",
          "name": "stderr",
          "text": [
            "Epoch 5/50 [Train]: 100%|██████████| 32/32 [00:10<00:00,  2.99it/s, accuracy=0.119, loss=3.51]\n"
          ]
        },
        {
          "output_type": "stream",
          "name": "stdout",
          "text": [
            "\n",
            "Epoch 5/50 [Train] - Loss: 3.5112, Accuracy: 0.1186\n"
          ]
        },
        {
          "output_type": "stream",
          "name": "stderr",
          "text": [
            "Epoch 5/50 [Test]: 100%|██████████| 193/193 [00:40<00:00,  4.72it/s, accuracy=0.0994, loss=3.65]\n"
          ]
        },
        {
          "output_type": "stream",
          "name": "stdout",
          "text": [
            "Epoch 5/50 [Test] - Loss: 3.6475, Accuracy: 0.0994\n"
          ]
        },
        {
          "output_type": "stream",
          "name": "stderr",
          "text": [
            "Epoch 6/50 [Train]: 100%|██████████| 32/32 [00:10<00:00,  2.97it/s, accuracy=0.149, loss=3.39]\n"
          ]
        },
        {
          "output_type": "stream",
          "name": "stdout",
          "text": [
            "\n",
            "Epoch 6/50 [Train] - Loss: 3.3869, Accuracy: 0.1490\n"
          ]
        },
        {
          "output_type": "stream",
          "name": "stderr",
          "text": [
            "Epoch 6/50 [Test]: 100%|██████████| 193/193 [00:40<00:00,  4.74it/s, accuracy=0.149, loss=3.49]\n"
          ]
        },
        {
          "output_type": "stream",
          "name": "stdout",
          "text": [
            "Epoch 6/50 [Test] - Loss: 3.4900, Accuracy: 0.1491\n"
          ]
        },
        {
          "output_type": "stream",
          "name": "stderr",
          "text": [
            "Epoch 7/50 [Train]: 100%|██████████| 32/32 [00:10<00:00,  2.97it/s, accuracy=0.178, loss=3.2]\n"
          ]
        },
        {
          "output_type": "stream",
          "name": "stdout",
          "text": [
            "\n",
            "Epoch 7/50 [Train] - Loss: 3.2004, Accuracy: 0.1784\n"
          ]
        },
        {
          "output_type": "stream",
          "name": "stderr",
          "text": [
            "Epoch 7/50 [Test]: 100%|██████████| 193/193 [00:41<00:00,  4.68it/s, accuracy=0.126, loss=3.74]\n"
          ]
        },
        {
          "output_type": "stream",
          "name": "stdout",
          "text": [
            "Epoch 7/50 [Test] - Loss: 3.7413, Accuracy: 0.1264\n"
          ]
        },
        {
          "output_type": "stream",
          "name": "stderr",
          "text": [
            "Epoch 8/50 [Train]: 100%|██████████| 32/32 [00:10<00:00,  2.93it/s, accuracy=0.22, loss=3.01]\n"
          ]
        },
        {
          "output_type": "stream",
          "name": "stdout",
          "text": [
            "\n",
            "Epoch 8/50 [Train] - Loss: 3.0117, Accuracy: 0.2196\n"
          ]
        },
        {
          "output_type": "stream",
          "name": "stderr",
          "text": [
            "Epoch 8/50 [Test]: 100%|██████████| 193/193 [00:41<00:00,  4.60it/s, accuracy=0.162, loss=3.67]\n"
          ]
        },
        {
          "output_type": "stream",
          "name": "stdout",
          "text": [
            "Epoch 8/50 [Test] - Loss: 3.6689, Accuracy: 0.1625\n"
          ]
        },
        {
          "output_type": "stream",
          "name": "stderr",
          "text": [
            "Epoch 9/50 [Train]: 100%|██████████| 32/32 [00:10<00:00,  2.93it/s, accuracy=0.242, loss=2.84]\n"
          ]
        },
        {
          "output_type": "stream",
          "name": "stdout",
          "text": [
            "\n",
            "Epoch 9/50 [Train] - Loss: 2.8446, Accuracy: 0.2422\n"
          ]
        },
        {
          "output_type": "stream",
          "name": "stderr",
          "text": [
            "Epoch 9/50 [Test]: 100%|██████████| 193/193 [00:41<00:00,  4.69it/s, accuracy=0.193, loss=3.49]\n"
          ]
        },
        {
          "output_type": "stream",
          "name": "stdout",
          "text": [
            "Epoch 9/50 [Test] - Loss: 3.4851, Accuracy: 0.1930\n"
          ]
        },
        {
          "output_type": "stream",
          "name": "stderr",
          "text": [
            "Epoch 10/50 [Train]: 100%|██████████| 32/32 [00:10<00:00,  2.94it/s, accuracy=0.287, loss=2.66]\n"
          ]
        },
        {
          "output_type": "stream",
          "name": "stdout",
          "text": [
            "\n",
            "Epoch 10/50 [Train] - Loss: 2.6551, Accuracy: 0.2873\n"
          ]
        },
        {
          "output_type": "stream",
          "name": "stderr",
          "text": [
            "Epoch 10/50 [Test]: 100%|██████████| 193/193 [00:40<00:00,  4.74it/s, accuracy=0.232, loss=3.29]\n"
          ]
        },
        {
          "output_type": "stream",
          "name": "stdout",
          "text": [
            "Epoch 10/50 [Test] - Loss: 3.2924, Accuracy: 0.2316\n"
          ]
        },
        {
          "output_type": "stream",
          "name": "stderr",
          "text": [
            "Epoch 11/50 [Train]: 100%|██████████| 32/32 [00:10<00:00,  2.93it/s, accuracy=0.316, loss=2.64]\n"
          ]
        },
        {
          "output_type": "stream",
          "name": "stdout",
          "text": [
            "\n",
            "Epoch 11/50 [Train] - Loss: 2.6370, Accuracy: 0.3157\n"
          ]
        },
        {
          "output_type": "stream",
          "name": "stderr",
          "text": [
            "Epoch 11/50 [Test]: 100%|██████████| 193/193 [00:41<00:00,  4.70it/s, accuracy=0.225, loss=3.16]\n"
          ]
        },
        {
          "output_type": "stream",
          "name": "stdout",
          "text": [
            "Epoch 11/50 [Test] - Loss: 3.1593, Accuracy: 0.2254\n"
          ]
        },
        {
          "output_type": "stream",
          "name": "stderr",
          "text": [
            "Epoch 12/50 [Train]: 100%|██████████| 32/32 [00:10<00:00,  2.94it/s, accuracy=0.339, loss=2.45]\n"
          ]
        },
        {
          "output_type": "stream",
          "name": "stdout",
          "text": [
            "\n",
            "Epoch 12/50 [Train] - Loss: 2.4539, Accuracy: 0.3392\n"
          ]
        },
        {
          "output_type": "stream",
          "name": "stderr",
          "text": [
            "Epoch 12/50 [Test]: 100%|██████████| 193/193 [00:40<00:00,  4.72it/s, accuracy=0.292, loss=2.96]\n"
          ]
        },
        {
          "output_type": "stream",
          "name": "stdout",
          "text": [
            "Epoch 12/50 [Test] - Loss: 2.9584, Accuracy: 0.2919\n"
          ]
        },
        {
          "output_type": "stream",
          "name": "stderr",
          "text": [
            "Epoch 13/50 [Train]: 100%|██████████| 32/32 [00:10<00:00,  2.95it/s, accuracy=0.424, loss=2.18]\n"
          ]
        },
        {
          "output_type": "stream",
          "name": "stdout",
          "text": [
            "\n",
            "Epoch 13/50 [Train] - Loss: 2.1821, Accuracy: 0.4235\n"
          ]
        },
        {
          "output_type": "stream",
          "name": "stderr",
          "text": [
            "Epoch 13/50 [Test]: 100%|██████████| 193/193 [00:41<00:00,  4.69it/s, accuracy=0.309, loss=2.91]\n"
          ]
        },
        {
          "output_type": "stream",
          "name": "stdout",
          "text": [
            "Epoch 13/50 [Test] - Loss: 2.9081, Accuracy: 0.3085\n"
          ]
        },
        {
          "output_type": "stream",
          "name": "stderr",
          "text": [
            "Epoch 14/50 [Train]: 100%|██████████| 32/32 [00:10<00:00,  2.95it/s, accuracy=0.45, loss=2.03]\n"
          ]
        },
        {
          "output_type": "stream",
          "name": "stdout",
          "text": [
            "\n",
            "Epoch 14/50 [Train] - Loss: 2.0294, Accuracy: 0.4500\n"
          ]
        },
        {
          "output_type": "stream",
          "name": "stderr",
          "text": [
            "Epoch 14/50 [Test]: 100%|██████████| 193/193 [00:41<00:00,  4.69it/s, accuracy=0.276, loss=3.16]\n"
          ]
        },
        {
          "output_type": "stream",
          "name": "stdout",
          "text": [
            "Epoch 14/50 [Test] - Loss: 3.1625, Accuracy: 0.2763\n"
          ]
        },
        {
          "output_type": "stream",
          "name": "stderr",
          "text": [
            "Epoch 15/50 [Train]: 100%|██████████| 32/32 [00:10<00:00,  2.94it/s, accuracy=0.46, loss=1.96]\n"
          ]
        },
        {
          "output_type": "stream",
          "name": "stdout",
          "text": [
            "\n",
            "Epoch 15/50 [Train] - Loss: 1.9650, Accuracy: 0.4598\n"
          ]
        },
        {
          "output_type": "stream",
          "name": "stderr",
          "text": [
            "Epoch 15/50 [Test]: 100%|██████████| 193/193 [00:41<00:00,  4.68it/s, accuracy=0.309, loss=3.26]\n"
          ]
        },
        {
          "output_type": "stream",
          "name": "stdout",
          "text": [
            "Epoch 15/50 [Test] - Loss: 3.2591, Accuracy: 0.3093\n"
          ]
        },
        {
          "output_type": "stream",
          "name": "stderr",
          "text": [
            "Epoch 16/50 [Train]: 100%|██████████| 32/32 [00:10<00:00,  2.94it/s, accuracy=0.491, loss=1.87]\n"
          ]
        },
        {
          "output_type": "stream",
          "name": "stdout",
          "text": [
            "\n",
            "Epoch 16/50 [Train] - Loss: 1.8674, Accuracy: 0.4912\n"
          ]
        },
        {
          "output_type": "stream",
          "name": "stderr",
          "text": [
            "Epoch 16/50 [Test]: 100%|██████████| 193/193 [00:40<00:00,  4.72it/s, accuracy=0.359, loss=2.61]\n"
          ]
        },
        {
          "output_type": "stream",
          "name": "stdout",
          "text": [
            "Epoch 16/50 [Test] - Loss: 2.6114, Accuracy: 0.3594\n"
          ]
        },
        {
          "output_type": "stream",
          "name": "stderr",
          "text": [
            "Epoch 17/50 [Train]: 100%|██████████| 32/32 [00:10<00:00,  2.95it/s, accuracy=0.536, loss=1.71]\n"
          ]
        },
        {
          "output_type": "stream",
          "name": "stdout",
          "text": [
            "\n",
            "Epoch 17/50 [Train] - Loss: 1.7064, Accuracy: 0.5363\n"
          ]
        },
        {
          "output_type": "stream",
          "name": "stderr",
          "text": [
            "Epoch 17/50 [Test]: 100%|██████████| 193/193 [00:40<00:00,  4.78it/s, accuracy=0.423, loss=2.34]\n"
          ]
        },
        {
          "output_type": "stream",
          "name": "stdout",
          "text": [
            "Epoch 17/50 [Test] - Loss: 2.3365, Accuracy: 0.4227\n"
          ]
        },
        {
          "output_type": "stream",
          "name": "stderr",
          "text": [
            "Epoch 18/50 [Train]: 100%|██████████| 32/32 [00:10<00:00,  2.95it/s, accuracy=0.544, loss=1.61]\n"
          ]
        },
        {
          "output_type": "stream",
          "name": "stdout",
          "text": [
            "\n",
            "Epoch 18/50 [Train] - Loss: 1.6105, Accuracy: 0.5441\n"
          ]
        },
        {
          "output_type": "stream",
          "name": "stderr",
          "text": [
            "Epoch 18/50 [Test]: 100%|██████████| 193/193 [00:40<00:00,  4.80it/s, accuracy=0.403, loss=2.71]\n"
          ]
        },
        {
          "output_type": "stream",
          "name": "stdout",
          "text": [
            "Epoch 18/50 [Test] - Loss: 2.7145, Accuracy: 0.4035\n"
          ]
        },
        {
          "output_type": "stream",
          "name": "stderr",
          "text": [
            "Epoch 19/50 [Train]: 100%|██████████| 32/32 [00:10<00:00,  2.93it/s, accuracy=0.566, loss=1.49]\n"
          ]
        },
        {
          "output_type": "stream",
          "name": "stdout",
          "text": [
            "\n",
            "Epoch 19/50 [Train] - Loss: 1.4923, Accuracy: 0.5657\n"
          ]
        },
        {
          "output_type": "stream",
          "name": "stderr",
          "text": [
            "Epoch 19/50 [Test]: 100%|██████████| 193/193 [00:40<00:00,  4.76it/s, accuracy=0.429, loss=2.64]\n"
          ]
        },
        {
          "output_type": "stream",
          "name": "stdout",
          "text": [
            "Epoch 19/50 [Test] - Loss: 2.6392, Accuracy: 0.4292\n"
          ]
        },
        {
          "output_type": "stream",
          "name": "stderr",
          "text": [
            "Epoch 20/50 [Train]: 100%|██████████| 32/32 [00:10<00:00,  2.95it/s, accuracy=0.589, loss=1.48]\n"
          ]
        },
        {
          "output_type": "stream",
          "name": "stdout",
          "text": [
            "\n",
            "Epoch 20/50 [Train] - Loss: 1.4808, Accuracy: 0.5892\n"
          ]
        },
        {
          "output_type": "stream",
          "name": "stderr",
          "text": [
            "Epoch 20/50 [Test]: 100%|██████████| 193/193 [00:40<00:00,  4.72it/s, accuracy=0.474, loss=2.33]\n"
          ]
        },
        {
          "output_type": "stream",
          "name": "stdout",
          "text": [
            "Epoch 20/50 [Test] - Loss: 2.3321, Accuracy: 0.4739\n"
          ]
        },
        {
          "output_type": "stream",
          "name": "stderr",
          "text": [
            "Epoch 21/50 [Train]: 100%|██████████| 32/32 [00:10<00:00,  2.94it/s, accuracy=0.636, loss=1.3]\n"
          ]
        },
        {
          "output_type": "stream",
          "name": "stdout",
          "text": [
            "\n",
            "Epoch 21/50 [Train] - Loss: 1.2984, Accuracy: 0.6363\n"
          ]
        },
        {
          "output_type": "stream",
          "name": "stderr",
          "text": [
            "Epoch 21/50 [Test]: 100%|██████████| 193/193 [00:40<00:00,  4.74it/s, accuracy=0.472, loss=2.27]\n"
          ]
        },
        {
          "output_type": "stream",
          "name": "stdout",
          "text": [
            "Epoch 21/50 [Test] - Loss: 2.2682, Accuracy: 0.4716\n"
          ]
        },
        {
          "output_type": "stream",
          "name": "stderr",
          "text": [
            "Epoch 22/50 [Train]: 100%|██████████| 32/32 [00:10<00:00,  2.93it/s, accuracy=0.63, loss=1.29]\n"
          ]
        },
        {
          "output_type": "stream",
          "name": "stdout",
          "text": [
            "\n",
            "Epoch 22/50 [Train] - Loss: 1.2919, Accuracy: 0.6304\n"
          ]
        },
        {
          "output_type": "stream",
          "name": "stderr",
          "text": [
            "Epoch 22/50 [Test]: 100%|██████████| 193/193 [00:41<00:00,  4.65it/s, accuracy=0.457, loss=2.28]\n"
          ]
        },
        {
          "output_type": "stream",
          "name": "stdout",
          "text": [
            "Epoch 22/50 [Test] - Loss: 2.2804, Accuracy: 0.4570\n"
          ]
        },
        {
          "output_type": "stream",
          "name": "stderr",
          "text": [
            "Epoch 23/50 [Train]: 100%|██████████| 32/32 [00:10<00:00,  2.93it/s, accuracy=0.67, loss=1.16]\n"
          ]
        },
        {
          "output_type": "stream",
          "name": "stdout",
          "text": [
            "\n",
            "Epoch 23/50 [Train] - Loss: 1.1555, Accuracy: 0.6696\n"
          ]
        },
        {
          "output_type": "stream",
          "name": "stderr",
          "text": [
            "Epoch 23/50 [Test]: 100%|██████████| 193/193 [00:41<00:00,  4.68it/s, accuracy=0.449, loss=2.35]\n"
          ]
        },
        {
          "output_type": "stream",
          "name": "stdout",
          "text": [
            "Epoch 23/50 [Test] - Loss: 2.3517, Accuracy: 0.4492\n"
          ]
        },
        {
          "output_type": "stream",
          "name": "stderr",
          "text": [
            "Epoch 24/50 [Train]: 100%|██████████| 32/32 [00:10<00:00,  2.93it/s, accuracy=0.661, loss=1.2]\n"
          ]
        },
        {
          "output_type": "stream",
          "name": "stdout",
          "text": [
            "\n",
            "Epoch 24/50 [Train] - Loss: 1.1995, Accuracy: 0.6608\n"
          ]
        },
        {
          "output_type": "stream",
          "name": "stderr",
          "text": [
            "Epoch 24/50 [Test]: 100%|██████████| 193/193 [00:41<00:00,  4.65it/s, accuracy=0.458, loss=2.38]\n"
          ]
        },
        {
          "output_type": "stream",
          "name": "stdout",
          "text": [
            "Epoch 24/50 [Test] - Loss: 2.3804, Accuracy: 0.4580\n"
          ]
        },
        {
          "output_type": "stream",
          "name": "stderr",
          "text": [
            "Epoch 25/50 [Train]: 100%|██████████| 32/32 [00:11<00:00,  2.90it/s, accuracy=0.647, loss=1.22]\n"
          ]
        },
        {
          "output_type": "stream",
          "name": "stdout",
          "text": [
            "\n",
            "Epoch 25/50 [Train] - Loss: 1.2246, Accuracy: 0.6471\n"
          ]
        },
        {
          "output_type": "stream",
          "name": "stderr",
          "text": [
            "Epoch 25/50 [Test]: 100%|██████████| 193/193 [00:41<00:00,  4.63it/s, accuracy=0.544, loss=2.09]\n"
          ]
        },
        {
          "output_type": "stream",
          "name": "stdout",
          "text": [
            "Epoch 25/50 [Test] - Loss: 2.0861, Accuracy: 0.5437\n"
          ]
        },
        {
          "output_type": "stream",
          "name": "stderr",
          "text": [
            "Epoch 26/50 [Train]: 100%|██████████| 32/32 [00:10<00:00,  2.99it/s, accuracy=0.689, loss=1.07]\n"
          ]
        },
        {
          "output_type": "stream",
          "name": "stdout",
          "text": [
            "\n",
            "Epoch 26/50 [Train] - Loss: 1.0692, Accuracy: 0.6892\n"
          ]
        },
        {
          "output_type": "stream",
          "name": "stderr",
          "text": [
            "Epoch 26/50 [Test]: 100%|██████████| 193/193 [00:41<00:00,  4.61it/s, accuracy=0.536, loss=2.02]\n"
          ]
        },
        {
          "output_type": "stream",
          "name": "stdout",
          "text": [
            "Epoch 26/50 [Test] - Loss: 2.0227, Accuracy: 0.5363\n"
          ]
        },
        {
          "output_type": "stream",
          "name": "stderr",
          "text": [
            "Epoch 27/50 [Train]: 100%|██████████| 32/32 [00:10<00:00,  2.98it/s, accuracy=0.727, loss=0.951]\n"
          ]
        },
        {
          "output_type": "stream",
          "name": "stdout",
          "text": [
            "\n",
            "Epoch 27/50 [Train] - Loss: 0.9510, Accuracy: 0.7275\n"
          ]
        },
        {
          "output_type": "stream",
          "name": "stderr",
          "text": [
            "Epoch 27/50 [Test]: 100%|██████████| 193/193 [00:41<00:00,  4.64it/s, accuracy=0.573, loss=1.85]\n"
          ]
        },
        {
          "output_type": "stream",
          "name": "stdout",
          "text": [
            "Epoch 27/50 [Test] - Loss: 1.8479, Accuracy: 0.5728\n"
          ]
        },
        {
          "output_type": "stream",
          "name": "stderr",
          "text": [
            "Epoch 28/50 [Train]: 100%|██████████| 32/32 [00:10<00:00,  2.96it/s, accuracy=0.74, loss=0.945]\n"
          ]
        },
        {
          "output_type": "stream",
          "name": "stdout",
          "text": [
            "\n",
            "Epoch 28/50 [Train] - Loss: 0.9454, Accuracy: 0.7402\n"
          ]
        },
        {
          "output_type": "stream",
          "name": "stderr",
          "text": [
            "Epoch 28/50 [Test]: 100%|██████████| 193/193 [00:41<00:00,  4.68it/s, accuracy=0.49, loss=2.36]\n"
          ]
        },
        {
          "output_type": "stream",
          "name": "stdout",
          "text": [
            "Epoch 28/50 [Test] - Loss: 2.3562, Accuracy: 0.4902\n"
          ]
        },
        {
          "output_type": "stream",
          "name": "stderr",
          "text": [
            "Epoch 29/50 [Train]: 100%|██████████| 32/32 [00:10<00:00,  2.94it/s, accuracy=0.747, loss=0.852]\n"
          ]
        },
        {
          "output_type": "stream",
          "name": "stdout",
          "text": [
            "\n",
            "Epoch 29/50 [Train] - Loss: 0.8516, Accuracy: 0.7471\n"
          ]
        },
        {
          "output_type": "stream",
          "name": "stderr",
          "text": [
            "Epoch 29/50 [Test]: 100%|██████████| 193/193 [00:41<00:00,  4.70it/s, accuracy=0.558, loss=1.95]\n"
          ]
        },
        {
          "output_type": "stream",
          "name": "stdout",
          "text": [
            "Epoch 29/50 [Test] - Loss: 1.9527, Accuracy: 0.5581\n"
          ]
        },
        {
          "output_type": "stream",
          "name": "stderr",
          "text": [
            "Epoch 30/50 [Train]: 100%|██████████| 32/32 [00:10<00:00,  2.95it/s, accuracy=0.733, loss=0.898]\n"
          ]
        },
        {
          "output_type": "stream",
          "name": "stdout",
          "text": [
            "\n",
            "Epoch 30/50 [Train] - Loss: 0.8985, Accuracy: 0.7333\n"
          ]
        },
        {
          "output_type": "stream",
          "name": "stderr",
          "text": [
            "Epoch 30/50 [Test]: 100%|██████████| 193/193 [00:41<00:00,  4.62it/s, accuracy=0.591, loss=1.88]\n"
          ]
        },
        {
          "output_type": "stream",
          "name": "stdout",
          "text": [
            "Epoch 30/50 [Test] - Loss: 1.8831, Accuracy: 0.5907\n"
          ]
        },
        {
          "output_type": "stream",
          "name": "stderr",
          "text": [
            "Epoch 31/50 [Train]: 100%|██████████| 32/32 [00:10<00:00,  2.91it/s, accuracy=0.811, loss=0.655]\n"
          ]
        },
        {
          "output_type": "stream",
          "name": "stdout",
          "text": [
            "\n",
            "Epoch 31/50 [Train] - Loss: 0.6547, Accuracy: 0.8108\n"
          ]
        },
        {
          "output_type": "stream",
          "name": "stderr",
          "text": [
            "Epoch 31/50 [Test]: 100%|██████████| 193/193 [00:41<00:00,  4.69it/s, accuracy=0.67, loss=1.44]\n"
          ]
        },
        {
          "output_type": "stream",
          "name": "stdout",
          "text": [
            "Epoch 31/50 [Test] - Loss: 1.4375, Accuracy: 0.6702\n"
          ]
        },
        {
          "output_type": "stream",
          "name": "stderr",
          "text": [
            "Epoch 32/50 [Train]: 100%|██████████| 32/32 [00:10<00:00,  2.95it/s, accuracy=0.865, loss=0.504]\n"
          ]
        },
        {
          "output_type": "stream",
          "name": "stdout",
          "text": [
            "\n",
            "Epoch 32/50 [Train] - Loss: 0.5038, Accuracy: 0.8647\n"
          ]
        },
        {
          "output_type": "stream",
          "name": "stderr",
          "text": [
            "Epoch 32/50 [Test]: 100%|██████████| 193/193 [00:41<00:00,  4.70it/s, accuracy=0.687, loss=1.37]\n"
          ]
        },
        {
          "output_type": "stream",
          "name": "stdout",
          "text": [
            "Epoch 32/50 [Test] - Loss: 1.3651, Accuracy: 0.6874\n"
          ]
        },
        {
          "output_type": "stream",
          "name": "stderr",
          "text": [
            "Epoch 33/50 [Train]: 100%|██████████| 32/32 [00:10<00:00,  2.94it/s, accuracy=0.896, loss=0.44]\n"
          ]
        },
        {
          "output_type": "stream",
          "name": "stdout",
          "text": [
            "\n",
            "Epoch 33/50 [Train] - Loss: 0.4402, Accuracy: 0.8961\n"
          ]
        },
        {
          "output_type": "stream",
          "name": "stderr",
          "text": [
            "Epoch 33/50 [Test]: 100%|██████████| 193/193 [00:40<00:00,  4.73it/s, accuracy=0.686, loss=1.37]\n"
          ]
        },
        {
          "output_type": "stream",
          "name": "stdout",
          "text": [
            "Epoch 33/50 [Test] - Loss: 1.3668, Accuracy: 0.6861\n"
          ]
        },
        {
          "output_type": "stream",
          "name": "stderr",
          "text": [
            "Epoch 34/50 [Train]: 100%|██████████| 32/32 [00:10<00:00,  2.94it/s, accuracy=0.883, loss=0.447]\n"
          ]
        },
        {
          "output_type": "stream",
          "name": "stdout",
          "text": [
            "\n",
            "Epoch 34/50 [Train] - Loss: 0.4467, Accuracy: 0.8833\n"
          ]
        },
        {
          "output_type": "stream",
          "name": "stderr",
          "text": [
            "Epoch 34/50 [Test]: 100%|██████████| 193/193 [00:40<00:00,  4.77it/s, accuracy=0.692, loss=1.34]\n"
          ]
        },
        {
          "output_type": "stream",
          "name": "stdout",
          "text": [
            "Epoch 34/50 [Test] - Loss: 1.3424, Accuracy: 0.6917\n"
          ]
        },
        {
          "output_type": "stream",
          "name": "stderr",
          "text": [
            "Epoch 35/50 [Train]: 100%|██████████| 32/32 [00:10<00:00,  2.95it/s, accuracy=0.911, loss=0.359]\n"
          ]
        },
        {
          "output_type": "stream",
          "name": "stdout",
          "text": [
            "\n",
            "Epoch 35/50 [Train] - Loss: 0.3592, Accuracy: 0.9108\n"
          ]
        },
        {
          "output_type": "stream",
          "name": "stderr",
          "text": [
            "Epoch 35/50 [Test]: 100%|██████████| 193/193 [00:40<00:00,  4.79it/s, accuracy=0.694, loss=1.34]\n"
          ]
        },
        {
          "output_type": "stream",
          "name": "stdout",
          "text": [
            "Epoch 35/50 [Test] - Loss: 1.3434, Accuracy: 0.6936\n"
          ]
        },
        {
          "output_type": "stream",
          "name": "stderr",
          "text": [
            "Epoch 36/50 [Train]: 100%|██████████| 32/32 [00:10<00:00,  2.94it/s, accuracy=0.904, loss=0.369]\n"
          ]
        },
        {
          "output_type": "stream",
          "name": "stdout",
          "text": [
            "\n",
            "Epoch 36/50 [Train] - Loss: 0.3687, Accuracy: 0.9039\n"
          ]
        },
        {
          "output_type": "stream",
          "name": "stderr",
          "text": [
            "Epoch 36/50 [Test]: 100%|██████████| 193/193 [00:41<00:00,  4.68it/s, accuracy=0.703, loss=1.3]\n"
          ]
        },
        {
          "output_type": "stream",
          "name": "stdout",
          "text": [
            "Epoch 36/50 [Test] - Loss: 1.3039, Accuracy: 0.7029\n"
          ]
        },
        {
          "output_type": "stream",
          "name": "stderr",
          "text": [
            "Epoch 37/50 [Train]: 100%|██████████| 32/32 [00:10<00:00,  2.93it/s, accuracy=0.888, loss=0.371]\n"
          ]
        },
        {
          "output_type": "stream",
          "name": "stdout",
          "text": [
            "\n",
            "Epoch 37/50 [Train] - Loss: 0.3707, Accuracy: 0.8882\n"
          ]
        },
        {
          "output_type": "stream",
          "name": "stderr",
          "text": [
            "Epoch 37/50 [Test]: 100%|██████████| 193/193 [00:41<00:00,  4.63it/s, accuracy=0.701, loss=1.34]\n"
          ]
        },
        {
          "output_type": "stream",
          "name": "stdout",
          "text": [
            "Epoch 37/50 [Test] - Loss: 1.3361, Accuracy: 0.7009\n"
          ]
        },
        {
          "output_type": "stream",
          "name": "stderr",
          "text": [
            "Epoch 38/50 [Train]: 100%|██████████| 32/32 [00:11<00:00,  2.90it/s, accuracy=0.914, loss=0.361]\n"
          ]
        },
        {
          "output_type": "stream",
          "name": "stdout",
          "text": [
            "\n",
            "Epoch 38/50 [Train] - Loss: 0.3613, Accuracy: 0.9137\n"
          ]
        },
        {
          "output_type": "stream",
          "name": "stderr",
          "text": [
            "Epoch 38/50 [Test]: 100%|██████████| 193/193 [00:41<00:00,  4.68it/s, accuracy=0.702, loss=1.36]\n"
          ]
        },
        {
          "output_type": "stream",
          "name": "stdout",
          "text": [
            "Epoch 38/50 [Test] - Loss: 1.3649, Accuracy: 0.7022\n"
          ]
        },
        {
          "output_type": "stream",
          "name": "stderr",
          "text": [
            "Epoch 39/50 [Train]: 100%|██████████| 32/32 [00:10<00:00,  2.91it/s, accuracy=0.918, loss=0.337]\n"
          ]
        },
        {
          "output_type": "stream",
          "name": "stdout",
          "text": [
            "\n",
            "Epoch 39/50 [Train] - Loss: 0.3367, Accuracy: 0.9176\n"
          ]
        },
        {
          "output_type": "stream",
          "name": "stderr",
          "text": [
            "Epoch 39/50 [Test]: 100%|██████████| 193/193 [00:41<00:00,  4.68it/s, accuracy=0.697, loss=1.37]\n"
          ]
        },
        {
          "output_type": "stream",
          "name": "stdout",
          "text": [
            "Epoch 39/50 [Test] - Loss: 1.3665, Accuracy: 0.6973\n"
          ]
        },
        {
          "output_type": "stream",
          "name": "stderr",
          "text": [
            "Epoch 40/50 [Train]: 100%|██████████| 32/32 [00:10<00:00,  2.93it/s, accuracy=0.916, loss=0.329]\n"
          ]
        },
        {
          "output_type": "stream",
          "name": "stdout",
          "text": [
            "\n",
            "Epoch 40/50 [Train] - Loss: 0.3293, Accuracy: 0.9157\n"
          ]
        },
        {
          "output_type": "stream",
          "name": "stderr",
          "text": [
            "Epoch 40/50 [Test]: 100%|██████████| 193/193 [00:41<00:00,  4.63it/s, accuracy=0.696, loss=1.41]\n"
          ]
        },
        {
          "output_type": "stream",
          "name": "stdout",
          "text": [
            "Epoch 40/50 [Test] - Loss: 1.4052, Accuracy: 0.6957\n"
          ]
        },
        {
          "output_type": "stream",
          "name": "stderr",
          "text": [
            "Epoch 41/50 [Train]: 100%|██████████| 32/32 [00:11<00:00,  2.89it/s, accuracy=0.923, loss=0.293]\n"
          ]
        },
        {
          "output_type": "stream",
          "name": "stdout",
          "text": [
            "\n",
            "Epoch 41/50 [Train] - Loss: 0.2931, Accuracy: 0.9225\n"
          ]
        },
        {
          "output_type": "stream",
          "name": "stderr",
          "text": [
            "Epoch 41/50 [Test]: 100%|██████████| 193/193 [00:43<00:00,  4.49it/s, accuracy=0.704, loss=1.4]\n"
          ]
        },
        {
          "output_type": "stream",
          "name": "stdout",
          "text": [
            "Epoch 41/50 [Test] - Loss: 1.3954, Accuracy: 0.7037\n"
          ]
        },
        {
          "output_type": "stream",
          "name": "stderr",
          "text": [
            "Epoch 42/50 [Train]: 100%|██████████| 32/32 [00:10<00:00,  2.99it/s, accuracy=0.916, loss=0.289]\n"
          ]
        },
        {
          "output_type": "stream",
          "name": "stdout",
          "text": [
            "\n",
            "Epoch 42/50 [Train] - Loss: 0.2892, Accuracy: 0.9157\n"
          ]
        },
        {
          "output_type": "stream",
          "name": "stderr",
          "text": [
            "Epoch 42/50 [Test]: 100%|██████████| 193/193 [00:41<00:00,  4.61it/s, accuracy=0.709, loss=1.37]\n"
          ]
        },
        {
          "output_type": "stream",
          "name": "stdout",
          "text": [
            "Epoch 42/50 [Test] - Loss: 1.3728, Accuracy: 0.7087\n"
          ]
        },
        {
          "output_type": "stream",
          "name": "stderr",
          "text": [
            "Epoch 43/50 [Train]: 100%|██████████| 32/32 [00:10<00:00,  2.97it/s, accuracy=0.927, loss=0.274]\n"
          ]
        },
        {
          "output_type": "stream",
          "name": "stdout",
          "text": [
            "\n",
            "Epoch 43/50 [Train] - Loss: 0.2741, Accuracy: 0.9275\n"
          ]
        },
        {
          "output_type": "stream",
          "name": "stderr",
          "text": [
            "Epoch 43/50 [Test]: 100%|██████████| 193/193 [00:41<00:00,  4.69it/s, accuracy=0.699, loss=1.46]\n"
          ]
        },
        {
          "output_type": "stream",
          "name": "stdout",
          "text": [
            "Epoch 43/50 [Test] - Loss: 1.4640, Accuracy: 0.6991\n"
          ]
        },
        {
          "output_type": "stream",
          "name": "stderr",
          "text": [
            "Epoch 44/50 [Train]: 100%|██████████| 32/32 [00:10<00:00,  2.96it/s, accuracy=0.924, loss=0.289]\n"
          ]
        },
        {
          "output_type": "stream",
          "name": "stdout",
          "text": [
            "\n",
            "Epoch 44/50 [Train] - Loss: 0.2890, Accuracy: 0.9235\n"
          ]
        },
        {
          "output_type": "stream",
          "name": "stderr",
          "text": [
            "Epoch 44/50 [Test]: 100%|██████████| 193/193 [00:41<00:00,  4.70it/s, accuracy=0.707, loss=1.42]\n"
          ]
        },
        {
          "output_type": "stream",
          "name": "stdout",
          "text": [
            "Epoch 44/50 [Test] - Loss: 1.4222, Accuracy: 0.7073\n"
          ]
        },
        {
          "output_type": "stream",
          "name": "stderr",
          "text": [
            "Epoch 45/50 [Train]: 100%|██████████| 32/32 [00:10<00:00,  2.98it/s, accuracy=0.923, loss=0.281]\n"
          ]
        },
        {
          "output_type": "stream",
          "name": "stdout",
          "text": [
            "\n",
            "Epoch 45/50 [Train] - Loss: 0.2813, Accuracy: 0.9225\n"
          ]
        },
        {
          "output_type": "stream",
          "name": "stderr",
          "text": [
            "Epoch 45/50 [Test]: 100%|██████████| 193/193 [00:40<00:00,  4.74it/s, accuracy=0.704, loss=1.41]\n"
          ]
        },
        {
          "output_type": "stream",
          "name": "stdout",
          "text": [
            "Epoch 45/50 [Test] - Loss: 1.4065, Accuracy: 0.7043\n"
          ]
        },
        {
          "output_type": "stream",
          "name": "stderr",
          "text": [
            "Epoch 46/50 [Train]: 100%|██████████| 32/32 [00:10<00:00,  2.94it/s, accuracy=0.925, loss=0.279]\n"
          ]
        },
        {
          "output_type": "stream",
          "name": "stdout",
          "text": [
            "\n",
            "Epoch 46/50 [Train] - Loss: 0.2793, Accuracy: 0.9245\n"
          ]
        },
        {
          "output_type": "stream",
          "name": "stderr",
          "text": [
            "Epoch 46/50 [Test]: 100%|██████████| 193/193 [00:40<00:00,  4.72it/s, accuracy=0.712, loss=1.4]\n"
          ]
        },
        {
          "output_type": "stream",
          "name": "stdout",
          "text": [
            "Epoch 46/50 [Test] - Loss: 1.4038, Accuracy: 0.7118\n"
          ]
        },
        {
          "output_type": "stream",
          "name": "stderr",
          "text": [
            "Epoch 47/50 [Train]: 100%|██████████| 32/32 [00:10<00:00,  2.95it/s, accuracy=0.933, loss=0.269]\n"
          ]
        },
        {
          "output_type": "stream",
          "name": "stdout",
          "text": [
            "\n",
            "Epoch 47/50 [Train] - Loss: 0.2695, Accuracy: 0.9333\n"
          ]
        },
        {
          "output_type": "stream",
          "name": "stderr",
          "text": [
            "Epoch 47/50 [Test]: 100%|██████████| 193/193 [00:40<00:00,  4.79it/s, accuracy=0.713, loss=1.37]\n"
          ]
        },
        {
          "output_type": "stream",
          "name": "stdout",
          "text": [
            "Epoch 47/50 [Test] - Loss: 1.3677, Accuracy: 0.7130\n"
          ]
        },
        {
          "output_type": "stream",
          "name": "stderr",
          "text": [
            "Epoch 48/50 [Train]: 100%|██████████| 32/32 [00:10<00:00,  2.93it/s, accuracy=0.923, loss=0.266]\n"
          ]
        },
        {
          "output_type": "stream",
          "name": "stdout",
          "text": [
            "\n",
            "Epoch 48/50 [Train] - Loss: 0.2661, Accuracy: 0.9225\n"
          ]
        },
        {
          "output_type": "stream",
          "name": "stderr",
          "text": [
            "Epoch 48/50 [Test]: 100%|██████████| 193/193 [00:40<00:00,  4.73it/s, accuracy=0.711, loss=1.42]\n"
          ]
        },
        {
          "output_type": "stream",
          "name": "stdout",
          "text": [
            "Epoch 48/50 [Test] - Loss: 1.4239, Accuracy: 0.7110\n"
          ]
        },
        {
          "output_type": "stream",
          "name": "stderr",
          "text": [
            "Epoch 49/50 [Train]: 100%|██████████| 32/32 [00:10<00:00,  2.95it/s, accuracy=0.91, loss=0.293]\n"
          ]
        },
        {
          "output_type": "stream",
          "name": "stdout",
          "text": [
            "\n",
            "Epoch 49/50 [Train] - Loss: 0.2927, Accuracy: 0.9098\n"
          ]
        },
        {
          "output_type": "stream",
          "name": "stderr",
          "text": [
            "Epoch 49/50 [Test]: 100%|██████████| 193/193 [00:40<00:00,  4.73it/s, accuracy=0.704, loss=1.49]\n"
          ]
        },
        {
          "output_type": "stream",
          "name": "stdout",
          "text": [
            "Epoch 49/50 [Test] - Loss: 1.4855, Accuracy: 0.7039\n"
          ]
        },
        {
          "output_type": "stream",
          "name": "stderr",
          "text": [
            "Epoch 50/50 [Train]: 100%|██████████| 32/32 [00:10<00:00,  2.93it/s, accuracy=0.922, loss=0.273]\n"
          ]
        },
        {
          "output_type": "stream",
          "name": "stdout",
          "text": [
            "\n",
            "Epoch 50/50 [Train] - Loss: 0.2727, Accuracy: 0.9216\n"
          ]
        },
        {
          "output_type": "stream",
          "name": "stderr",
          "text": [
            "Epoch 50/50 [Test]: 100%|██████████| 193/193 [00:41<00:00,  4.69it/s, accuracy=0.704, loss=1.44]"
          ]
        },
        {
          "output_type": "stream",
          "name": "stdout",
          "text": [
            "Epoch 50/50 [Test] - Loss: 1.4387, Accuracy: 0.7043\n",
            "\n",
            "Training finished.\n",
            "\n",
            "Evaluating on the full test set...\n"
          ]
        },
        {
          "output_type": "stream",
          "name": "stderr",
          "text": [
            "\n"
          ]
        },
        {
          "output_type": "stream",
          "name": "stdout",
          "text": [
            "Final Test Loss: 1.4387, Final Test Accuracy: 0.7043\n"
          ]
        }
      ]
    },
    {
      "cell_type": "code",
      "source": [
        "model.save()"
      ],
      "metadata": {
        "id": "0vxDuM_vHY07"
      },
      "execution_count": null,
      "outputs": []
    },
    {
      "source": [
        "# Define the path where you want to save the model\n",
        "model_save_path = \"resnet50_flowers102.pth\" # Use a .pth or .pt extension\n",
        "\n",
        "# Save the model's state dictionary\n",
        "torch.save(model.state_dict(), model_save_path)\n",
        "\n",
        "print(f\"Model state dictionary saved to {model_save_path}\")"
      ],
      "cell_type": "code",
      "metadata": {
        "colab": {
          "base_uri": "https://localhost:8080/"
        },
        "id": "C1Lrvyh1Hhor",
        "outputId": "26c46863-0ffd-4a03-ab3b-a74fb56d8f09"
      },
      "execution_count": 13,
      "outputs": [
        {
          "output_type": "stream",
          "name": "stdout",
          "text": [
            "Model state dictionary saved to resnet50_flowers102.pth\n"
          ]
        }
      ]
    },
    {
      "source": [
        "# %%\n",
        "# Import necessary libraries\n",
        "import torch\n",
        "import torchvision\n",
        "from torchvision.transforms import transforms\n",
        "from torchvision.models import resnet50, ResNet50_Weights\n",
        "import torch.nn as nn\n",
        "import matplotlib.pyplot as plt\n",
        "from PIL import Image # To open images\n",
        "\n",
        "# %%\n",
        "# Device configuration (must be the same as or compatible with training)\n",
        "device = \"cuda\" if torch.cuda.is_available() else \"cpu\"\n",
        "print(f\"Using device: {device}\")\n",
        "\n",
        "# %%\n",
        "# Define the model architecture (must match the saved model)\n",
        "# Start with a standard ResNet50\n",
        "loaded_model = resnet50(weights=None) # No pre-trained weights here, we'll load our own\n",
        "\n",
        "# Modify the final fully connected layer to match the number of classes trained\n",
        "num_classes = 102 # Must match the number of classes the saved model was trained on\n",
        "loaded_model.fc = nn.Linear(in_features=loaded_model.fc.in_features, out_features=num_classes)\n",
        "\n",
        "# Move the model to the device\n",
        "loaded_model.to(device)\n",
        "\n",
        "# %%\n",
        "# Define the path to the saved model state dictionary\n",
        "model_save_path = \"resnet50_flowers102.pth\" # Replace with the actual path to your saved file\n",
        "\n",
        "# Load the saved state dictionary\n",
        "try:\n",
        "    loaded_model.load_state_dict(torch.load(model_save_path, map_location=device))\n",
        "    print(f\"Model state dictionary loaded successfully from {model_save_path}\")\n",
        "except FileNotFoundError:\n",
        "    print(f\"Error: Model file not found at {model_save_path}\")\n",
        "    # Handle this error, perhaps exit or skip testing\n",
        "except Exception as e:\n",
        "    print(f\"Error loading model state dictionary: {e}\")\n",
        "    # Handle other loading errors\n",
        "\n",
        "# %%\n",
        "# Set the model to evaluation mode\n",
        "# This is crucial for inference, it disables dropout and batch normalization tracking\n",
        "loaded_model.eval()\n",
        "print(\"Model set to evaluation mode.\")\n",
        "\n",
        "# %%\n",
        "# Prepare a single image for testing\n",
        "\n",
        "# Option 1: Use an image from your dataset (e.g., from the test_ds)\n",
        "# This requires having the dataset loaded again\n",
        "# Assuming test_ds is available or you reload it\n",
        "# Example: Get the first image and label from the test dataset\n",
        "# image, label = test_ds[0]\n",
        "# print(f\"Original label (index): {label}\")\n",
        "\n",
        "# Option 2: Load an external image file\n",
        "# Replace 'path/to/your/image.jpg' with the actual path to an image file\n",
        "try:\n",
        "    image_path = \"./data/flowers-102/test/1/image_06740.jpg\" # Example path, replace with yours\n",
        "    img = Image.open(image_path).convert(\"RGB\") # Open and convert to RGB\n",
        "    print(f\"Loaded image from {image_path}\")\n",
        "\n",
        "    # Apply the same transformations used for testing data during training\n",
        "    # Use the test_transform defined earlier (or redefine it here)\n",
        "    test_transform = transforms.Compose([\n",
        "        transforms.Resize(256),\n",
        "        transforms.CenterCrop(224),\n",
        "        transforms.ToTensor(),\n",
        "        transforms.Normalize(mean=[0.485, 0.456, 0.406], std=[0.229, 0.224, 0.225])\n",
        "    ])\n",
        "    image_tensor = test_transform(img).unsqueeze(0) # Add a batch dimension (batch size of 1)\n",
        "    image_tensor = image_tensor.to(device) # Move image to the device\n",
        "\n",
        "except FileNotFoundError:\n",
        "    print(f\"Error: Image file not found at {image_path}\")\n",
        "    # Handle this error\n",
        "except Exception as e:\n",
        "    print(f\"Error loading or transforming image: {e}\")\n",
        "    # Handle other image processing errors\n",
        "\n",
        "# %%\n",
        "# Perform inference\n",
        "if 'image_tensor' in locals(): # Check if image was loaded successfully\n",
        "    print(\"Performing inference...\")\n",
        "    with torch.no_grad(): # Disable gradient calculation for inference\n",
        "        output = loaded_model(image_tensor)\n",
        "\n",
        "    # Get the predicted class probabilities\n",
        "    probabilities = torch.softmax(output, dim=1)\n",
        "\n",
        "    # Get the predicted class index\n",
        "    predicted_class_index = torch.argmax(probabilities, dim=1).item()\n",
        "\n",
        "    # Optional: If you have a list of class names, you can get the class name\n",
        "    # For Flowers102, the dataset object has .classes or similar\n",
        "    # If you are using Flowers102 dataset object:\n",
        "    # class_names = test_ds.classes\n",
        "    # predicted_class_name = class_names[predicted_class_index]\n",
        "    # print(f\"Predicted class: {predicted_class_name} (Index: {predicted_class_index})\")\n",
        "\n",
        "    # If you don't have class names readily available:\n",
        "    print(f\"Predicted class index: {predicted_class_index}\")\n",
        "\n",
        "    # Optional: Print the probabilities for all classes\n",
        "    # print(\"Class probabilities:\")\n",
        "    # print(probabilities)\n",
        "\n",
        "else:\n",
        "    print(\"Skipping inference due to image loading error.\")"
      ],
      "cell_type": "code",
      "metadata": {
        "colab": {
          "base_uri": "https://localhost:8080/"
        },
        "id": "3RdNev5bIaNT",
        "outputId": "12b8f37f-c3a7-4c3c-bbf0-fdfbdc8d3024"
      },
      "execution_count": 14,
      "outputs": [
        {
          "output_type": "stream",
          "name": "stdout",
          "text": [
            "Using device: cuda\n",
            "Model state dictionary loaded successfully from resnet50_flowers102.pth\n",
            "Model set to evaluation mode.\n",
            "Error: Image file not found at ./data/flowers-102/test/1/image_06740.jpg\n",
            "Skipping inference due to image loading error.\n"
          ]
        }
      ]
    },
    {
      "cell_type": "code",
      "source": [],
      "metadata": {
        "id": "JzewLPFVJjBf"
      },
      "execution_count": null,
      "outputs": []
    },
    {
      "source": [
        "# %%\n",
        "# Assuming the necessary imports, device setup, and loaded_model are already defined\n",
        "\n",
        "# Ensure the model is in evaluation mode\n",
        "loaded_model.eval()\n",
        "print(\"Model set to evaluation mode.\")\n",
        "\n",
        "# %%\n",
        "# Get a single batch from the test loader\n",
        "try:\n",
        "    # Iterate through the first batch of the test loader\n",
        "    # You can stop after getting the first batch\n",
        "    print(\"Getting a batch from the test loader...\")\n",
        "    for batch, (image, label) in enumerate(test_loader):\n",
        "        # We only need the first batch for this example\n",
        "        image_batch = image\n",
        "        label_batch = label\n",
        "        break # Exit the loop after the first batch\n",
        "\n",
        "    print(f\"Obtained a batch of size {image_batch.size(0)} from the test loader.\")\n",
        "\n",
        "    # Select a single image from the batch for inference\n",
        "    # You can change the index (e.g., 0, 1, 2...) to pick a different image from the batch\n",
        "    single_image_tensor = image_batch[0].unsqueeze(0) # Get the first image and add a batch dimension\n",
        "    original_label_for_single_image = label_batch[0].item() # Get the label for that image\n",
        "\n",
        "    # Move the single image tensor to the device\n",
        "    single_image_tensor = single_image_tensor.to(device)\n",
        "\n",
        "    print(f\"Selected image at index 0 from the batch. Original label: {original_label_for_single_image}\")\n",
        "\n",
        "except NameError:\n",
        "    print(\"Error: test_loader not found. Please run the Data Loaders cell first.\")\n",
        "    # Handle this error if test_loader is not available\n",
        "except IndexError:\n",
        "     print(\"Error: The test_loader is empty. Check your dataset and loader setup.\")\n",
        "except Exception as e:\n",
        "    print(f\"Error getting data from test loader: {e}\")\n",
        "    # Handle other errors\n",
        "\n",
        "# %%\n",
        "# Perform inference on the single image\n",
        "if 'single_image_tensor' in locals() and single_image_tensor is not None: # Check if image was successfully obtained\n",
        "    print(\"Performing inference on the single image...\")\n",
        "    with torch.no_grad(): # Disable gradient calculation for inference\n",
        "        output = loaded_model(single_image_tensor)\n",
        "\n",
        "    # Get the predicted class probabilities\n",
        "    probabilities = torch.softmax(output, dim=1)\n",
        "\n",
        "    # Get the predicted class index\n",
        "    predicted_class_index = torch.argmax(probabilities, dim=1).item()\n",
        "\n",
        "    # Optional: If you have a list of class names, you can get the class name\n",
        "    # If you are using Flowers102 dataset object and have access to test_ds:\n",
        "    # class_names = test_ds.classes # Assuming test_ds is available\n",
        "    # predicted_class_name = class_names[predicted_class_index]\n",
        "    # print(f\"Predicted class: {predicted_class_name} (Index: {predicted_class_index})\")\n",
        "\n",
        "    # If you don't have class names readily available:\n",
        "    print(f\"Predicted class index: {predicted_class_index}\")\n",
        "    print(f\"True class index: {original_label_for_single_image}\")\n",
        "\n",
        "    # Optional: Print the top N probabilities\n",
        "    # top_prob, top_cat = torch.topk(probabilities[0], 5) # Get top 5\n",
        "    # print(\"\\nTop 5 Predicted Probabilities and Indices:\")\n",
        "    # for i in range(top_prob.size(0)):\n",
        "    #     print(f\"  Index: {top_cat[i].item()}, Probability: {top_prob[i].item():.4f}\")\n",
        "\n",
        "else:\n",
        "    print(\"Skipping inference as a single image tensor could not be obtained.\")"
      ],
      "cell_type": "code",
      "metadata": {
        "colab": {
          "base_uri": "https://localhost:8080/"
        },
        "id": "FWzq7OGnJju7",
        "outputId": "ce909103-bc24-427d-8c7a-804589b16f88"
      },
      "execution_count": 15,
      "outputs": [
        {
          "output_type": "stream",
          "name": "stdout",
          "text": [
            "Model set to evaluation mode.\n",
            "Getting a batch from the test loader...\n",
            "Obtained a batch of size 32 from the test loader.\n",
            "Selected image at index 0 from the batch. Original label: 0\n",
            "Performing inference on the single image...\n",
            "Predicted class index: 51\n",
            "True class index: 0\n"
          ]
        }
      ]
    }
  ]
}